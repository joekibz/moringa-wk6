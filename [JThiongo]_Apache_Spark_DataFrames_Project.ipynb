{
  "nbformat": 4,
  "nbformat_minor": 0,
  "metadata": {
    "colab": {
      "provenance": [],
      "collapsed_sections": [
        "jPtkMdA_OWEf",
        "r2sRFJcsLkQw",
        "9_3EqMX1L5K1",
        "n02grz6wL_2O",
        "NaKt4StCMQG-",
        "vuc6XfclMVmE",
        "DchDP_CbPwT8",
        "CQ8N66HOMjHl",
        "EYOHFbc_M7R8",
        "PpZGk7PqNAJM",
        "4hP4G0T4P6_O",
        "F9rWOnFdNavj",
        "Gg-X0G1OOIYt",
        "JyjjxdRRNuTA",
        "mSH1NuyaN-oB"
      ],
      "toc_visible": true,
      "include_colab_link": true
    },
    "kernelspec": {
      "name": "python3",
      "display_name": "Python 3"
    },
    "language_info": {
      "name": "python"
    }
  },
  "cells": [
    {
      "cell_type": "markdown",
      "metadata": {
        "id": "view-in-github",
        "colab_type": "text"
      },
      "source": [
        "<a href=\"https://colab.research.google.com/github/joekibz/moringa-wk6/blob/main/%5BJThiongo%5D_Apache_Spark_DataFrames_Project.ipynb\" target=\"_parent\"><img src=\"https://colab.research.google.com/assets/colab-badge.svg\" alt=\"Open In Colab\"/></a>"
      ]
    },
    {
      "cell_type": "markdown",
      "metadata": {
        "id": "f6vot1-PLi70"
      },
      "source": [
        "# Solution Notebook: Spark dataframes project\n"
      ]
    },
    {
      "cell_type": "markdown",
      "metadata": {
        "id": "jPtkMdA_OWEf"
      },
      "source": [
        "## Pre-requisites"
      ]
    },
    {
      "cell_type": "code",
      "metadata": {
        "id": "9NIjZ013OX0o",
        "colab": {
          "base_uri": "https://localhost:8080/"
        },
        "outputId": "92d23285-020c-4be2-ad6c-2a50aa86f146"
      },
      "source": [
        "# Installing pyspark\n",
        "# ---\n",
        "#\n",
        "!pip install pyspark"
      ],
      "execution_count": 1,
      "outputs": [
        {
          "output_type": "stream",
          "name": "stdout",
          "text": [
            "Looking in indexes: https://pypi.org/simple, https://us-python.pkg.dev/colab-wheels/public/simple/\n",
            "Requirement already satisfied: pyspark in /usr/local/lib/python3.8/dist-packages (3.3.1)\n",
            "Requirement already satisfied: py4j==0.10.9.5 in /usr/local/lib/python3.8/dist-packages (from pyspark) (0.10.9.5)\n"
          ]
        }
      ]
    },
    {
      "cell_type": "code",
      "metadata": {
        "id": "c5ggFX2DOccp"
      },
      "source": [
        "# Next, we run a local spark session\n",
        "# ---\n",
        "#\n",
        "from pyspark.sql import SparkSession\n",
        "from pyspark.sql import SQLContext\n",
        "from pyspark.sql.functions import format_number\n",
        "\n",
        "spark = SparkSession.builder.master(\"local[*]\").getOrCreate()\n",
        "sc = spark.sparkContext"
      ],
      "execution_count": 2,
      "outputs": []
    },
    {
      "cell_type": "markdown",
      "source": [
        "##Data Importation and Exploration"
      ],
      "metadata": {
        "id": "B7wPE9gatjfM"
      }
    },
    {
      "cell_type": "code",
      "source": [
        "f = open('saf_stock.csv')\n",
        "\n",
        "for i in range(0,4):\n",
        "    print(f.readline())"
      ],
      "metadata": {
        "colab": {
          "base_uri": "https://localhost:8080/"
        },
        "id": "xnYax_12uTQe",
        "outputId": "e8728606-9a9d-4f1f-8980-5133f41fe274"
      },
      "execution_count": 3,
      "outputs": [
        {
          "output_type": "stream",
          "name": "stdout",
          "text": [
            "Date,Open,High,Low,Close,Volume,Adj Close\n",
            "\n",
            "2012-01-03,59.970001,61.060001,59.869999,60.330002,12668800,52.619234999999996\n",
            "\n",
            "2012-01-04,60.209998999999996,60.349998,59.470001,59.709998999999996,9593300,52.078475\n",
            "\n",
            "2012-01-05,59.349998,59.619999,58.369999,59.419998,12768200,51.825539\n",
            "\n"
          ]
        }
      ]
    },
    {
      "cell_type": "markdown",
      "source": [
        "Inferring the data types:\n",
        "<br>Date column -> <i>string data type</i>\n",
        "<br>Open, High, Low, Close, Volume, Adj close columns  -> <i>float data type</i>\n",
        "<br>"
      ],
      "metadata": {
        "id": "OWNFStOKvc8r"
      }
    },
    {
      "cell_type": "markdown",
      "source": [
        "###Determine the column names"
      ],
      "metadata": {
        "id": "9mPd6IIYwXYw"
      }
    },
    {
      "cell_type": "markdown",
      "source": [
        "The column names are as follows:<br>\n",
        "-Date<br>\n",
        "-Open<br>\n",
        "-High<br>\n",
        "-Low<br>\n",
        "-Close<br>\n",
        "-Volume<br>\n",
        "-Adj Close<br>"
      ],
      "metadata": {
        "id": "PTYKyy_-wbVH"
      }
    },
    {
      "cell_type": "markdown",
      "source": [
        "###Start a spark session and load the stock file while inferring the data types. Make observations about the schema.\n"
      ],
      "metadata": {
        "id": "8h48HdPkw-_r"
      }
    },
    {
      "cell_type": "code",
      "source": [
        "# Pass in the SparkContext object `sc`\n",
        "sqlCtx = SQLContext(sc)\n",
        "\n",
        "# Read JSON data into a DataFrame object `df`\n",
        "df = sqlCtx.read.csv(\"saf_stock.csv\", header=True)\n",
        "\n",
        "df.printSchema()"
      ],
      "metadata": {
        "colab": {
          "base_uri": "https://localhost:8080/"
        },
        "id": "RUOYTsFBunpw",
        "outputId": "ed935cbc-060f-491a-8496-ef121d209eda"
      },
      "execution_count": 4,
      "outputs": [
        {
          "output_type": "stream",
          "name": "stderr",
          "text": [
            "/usr/local/lib/python3.8/dist-packages/pyspark/sql/context.py:112: FutureWarning: Deprecated in 3.0.0. Use SparkSession.builder.getOrCreate() instead.\n",
            "  warnings.warn(\n"
          ]
        },
        {
          "output_type": "stream",
          "name": "stdout",
          "text": [
            "root\n",
            " |-- Date: string (nullable = true)\n",
            " |-- Open: string (nullable = true)\n",
            " |-- High: string (nullable = true)\n",
            " |-- Low: string (nullable = true)\n",
            " |-- Close: string (nullable = true)\n",
            " |-- Volume: string (nullable = true)\n",
            " |-- Adj Close: string (nullable = true)\n",
            "\n"
          ]
        }
      ]
    },
    {
      "cell_type": "markdown",
      "source": [
        "Spark inferred table with 7 columns, all of string datatype with option nullable=True"
      ],
      "metadata": {
        "id": "f87Wm16uyNxU"
      }
    },
    {
      "cell_type": "markdown",
      "source": [
        "###Show the first 5 rows\n"
      ],
      "metadata": {
        "id": "970Kwiifz_uU"
      }
    },
    {
      "cell_type": "code",
      "source": [
        "df.show(5)"
      ],
      "metadata": {
        "colab": {
          "base_uri": "https://localhost:8080/"
        },
        "id": "k_vz2fIm0FKJ",
        "outputId": "259d6a43-8dbd-437a-86a7-9ad31eb1e7d5"
      },
      "execution_count": 5,
      "outputs": [
        {
          "output_type": "stream",
          "name": "stdout",
          "text": [
            "+----------+------------------+---------+---------+------------------+--------+------------------+\n",
            "|      Date|              Open|     High|      Low|             Close|  Volume|         Adj Close|\n",
            "+----------+------------------+---------+---------+------------------+--------+------------------+\n",
            "|2012-01-03|         59.970001|61.060001|59.869999|         60.330002|12668800|52.619234999999996|\n",
            "|2012-01-04|60.209998999999996|60.349998|59.470001|59.709998999999996| 9593300|         52.078475|\n",
            "|2012-01-05|         59.349998|59.619999|58.369999|         59.419998|12768200|         51.825539|\n",
            "|2012-01-06|         59.419998|59.450001|58.869999|              59.0| 8069400|          51.45922|\n",
            "|2012-01-09|         59.029999|59.549999|58.919998|             59.18| 6679300|51.616215000000004|\n",
            "+----------+------------------+---------+---------+------------------+--------+------------------+\n",
            "only showing top 5 rows\n",
            "\n"
          ]
        }
      ]
    },
    {
      "cell_type": "markdown",
      "source": [
        "###Use the describe method to learn about the data frame"
      ],
      "metadata": {
        "id": "aZd1SpCz0K2j"
      }
    },
    {
      "cell_type": "code",
      "source": [
        "df.createOrReplaceTempView('saf_stock')\n",
        "tables = sqlCtx.tableNames()\n",
        "print(tables)"
      ],
      "metadata": {
        "colab": {
          "base_uri": "https://localhost:8080/"
        },
        "id": "yxHM-XXy43oR",
        "outputId": "8239ea31-bf08-4cd8-fa64-87ef3a38b2f9"
      },
      "execution_count": 6,
      "outputs": [
        {
          "output_type": "stream",
          "name": "stdout",
          "text": [
            "['saf_stock']\n"
          ]
        }
      ]
    },
    {
      "cell_type": "code",
      "source": [
        "#describe ...\n",
        "\n",
        "query = 'select * from saf_stock'\n",
        "sqlCtx.sql(query).describe().show()"
      ],
      "metadata": {
        "colab": {
          "base_uri": "https://localhost:8080/"
        },
        "id": "gA_3E3LI5FZt",
        "outputId": "98658d06-b66c-4932-c01e-821ee7dfb05d"
      },
      "execution_count": 7,
      "outputs": [
        {
          "output_type": "stream",
          "name": "stdout",
          "text": [
            "+-------+----------+------------------+-----------------+-----------------+-----------------+-----------------+-----------------+\n",
            "|summary|      Date|              Open|             High|              Low|            Close|           Volume|        Adj Close|\n",
            "+-------+----------+------------------+-----------------+-----------------+-----------------+-----------------+-----------------+\n",
            "|  count|      1258|              1258|             1258|             1258|             1258|             1258|             1258|\n",
            "|   mean|      null| 72.35785375357709|72.83938807631165| 71.9186009594594|72.38844998012726|8222093.481717011|67.23883848728146|\n",
            "| stddev|      null|  6.76809024470826|6.768186808159218|6.744075756255496|6.756859163732991|  4519780.8431556|6.722609449996857|\n",
            "|    min|2012-01-03|56.389998999999996|        57.060001|        56.299999|        56.419998|         10010500|        50.363689|\n",
            "|    max|2016-12-30|         90.800003|        90.970001|            89.25|        90.470001|          9994400|84.91421600000001|\n",
            "+-------+----------+------------------+-----------------+-----------------+-----------------+-----------------+-----------------+\n",
            "\n"
          ]
        }
      ]
    },
    {
      "cell_type": "markdown",
      "source": [
        "##Data Preparation"
      ],
      "metadata": {
        "id": "Aed1n2KU2p_b"
      }
    },
    {
      "cell_type": "markdown",
      "source": [
        "###Format all the data to 2 decimal places i.e. format_number()"
      ],
      "metadata": {
        "id": "DYZSR2iI2ueb"
      }
    },
    {
      "cell_type": "code",
      "source": [
        "#fix 'Adj Close' column to remove space in column name\n",
        "\n",
        "from pyspark.sql.types import IntegerType, FloatType\n",
        "df = df.withColumnRenamed(\"Adj Close\", \"Adj_Close\")\n",
        "\n",
        "df.columns"
      ],
      "metadata": {
        "colab": {
          "base_uri": "https://localhost:8080/"
        },
        "id": "3aoPmM8UYDCN",
        "outputId": "745a5941-aea0-4b1d-8424-eff8bbe45d8f"
      },
      "execution_count": 8,
      "outputs": [
        {
          "output_type": "execute_result",
          "data": {
            "text/plain": [
              "['Date', 'Open', 'High', 'Low', 'Close', 'Volume', 'Adj_Close']"
            ]
          },
          "metadata": {},
          "execution_count": 8
        }
      ]
    },
    {
      "cell_type": "code",
      "source": [
        "#Cast numeric columns from string type to float to permit later mathematical operations\n",
        "\n",
        "df=df \\\n",
        ".withColumn(\"Open\",df.Open.cast(FloatType())) \\\n",
        ".withColumn(\"High\",df.High.cast(FloatType())) \\\n",
        ".withColumn(\"Low\",df.Low.cast(FloatType())) \\\n",
        ".withColumn(\"Close\",df.Close.cast(FloatType())) \\\n",
        ".withColumn(\"Volume\",df.Volume.cast(FloatType())) \\\n",
        ".withColumn(\"Adj_Close\",df.Adj_Close.cast(FloatType()))\n",
        "\n",
        "df.printSchema()"
      ],
      "metadata": {
        "colab": {
          "base_uri": "https://localhost:8080/"
        },
        "id": "zMZ-SchAXw6r",
        "outputId": "0a84447b-b49f-456a-9dee-eada8e1d36f2"
      },
      "execution_count": 9,
      "outputs": [
        {
          "output_type": "stream",
          "name": "stdout",
          "text": [
            "root\n",
            " |-- Date: string (nullable = true)\n",
            " |-- Open: float (nullable = true)\n",
            " |-- High: float (nullable = true)\n",
            " |-- Low: float (nullable = true)\n",
            " |-- Close: float (nullable = true)\n",
            " |-- Volume: float (nullable = true)\n",
            " |-- Adj_Close: float (nullable = true)\n",
            "\n"
          ]
        }
      ]
    },
    {
      "cell_type": "code",
      "source": [
        "print(type(df))"
      ],
      "metadata": {
        "colab": {
          "base_uri": "https://localhost:8080/"
        },
        "id": "bE6EVFyPAC7b",
        "outputId": "a73ba698-7706-4f25-eae1-76b20b708531"
      },
      "execution_count": 10,
      "outputs": [
        {
          "output_type": "stream",
          "name": "stdout",
          "text": [
            "<class 'pyspark.sql.dataframe.DataFrame'>\n"
          ]
        }
      ]
    },
    {
      "cell_type": "code",
      "source": [
        "#Format_number(), 2 decimal places ....\n",
        "\n",
        "fmt_df = df.select(\"Date\", \\\n",
        "format_number(\"Open\", 2).alias(\"Open\"), \\\n",
        "format_number(\"High\", 2).alias(\"High\"), \\\n",
        "format_number(\"Low\", 2).alias(\"Low\"), \\\n",
        "format_number(\"Close\", 2).alias(\"close\"), \\\n",
        "format_number(\"Volume\", 2).alias(\"Volume\"), \\\n",
        "format_number(\"Adj_Close\", 2).alias(\"Adj_Close\"))\n"
      ],
      "metadata": {
        "id": "_HkY_0dk6I6t"
      },
      "execution_count": 11,
      "outputs": []
    },
    {
      "cell_type": "code",
      "source": [
        "#Show formatted_df\n",
        "fmt_df.head(5)\n"
      ],
      "metadata": {
        "colab": {
          "base_uri": "https://localhost:8080/"
        },
        "id": "SZoOOxEHggQu",
        "outputId": "901250c1-83f1-4e23-890c-303fc0bfcce2"
      },
      "execution_count": 12,
      "outputs": [
        {
          "output_type": "execute_result",
          "data": {
            "text/plain": [
              "[Row(Date='2012-01-03', Open='59.97', High='61.06', Low='59.87', close='60.33', Volume='12,668,800.00', Adj_Close='52.62'),\n",
              " Row(Date='2012-01-04', Open='60.21', High='60.35', Low='59.47', close='59.71', Volume='9,593,300.00', Adj_Close='52.08'),\n",
              " Row(Date='2012-01-05', Open='59.35', High='59.62', Low='58.37', close='59.42', Volume='12,768,200.00', Adj_Close='51.83'),\n",
              " Row(Date='2012-01-06', Open='59.42', High='59.45', Low='58.87', close='59.00', Volume='8,069,400.00', Adj_Close='51.46'),\n",
              " Row(Date='2012-01-09', Open='59.03', High='59.55', Low='58.92', close='59.18', Volume='6,679,300.00', Adj_Close='51.62')]"
            ]
          },
          "metadata": {},
          "execution_count": 12
        }
      ]
    },
    {
      "cell_type": "markdown",
      "source": [
        "###Create a new data frame with a column called HV Ratio that is the ratio of the High Price versus volume of stock traded for a day\n"
      ],
      "metadata": {
        "id": "-Nv4tUdmh47l"
      }
    },
    {
      "cell_type": "code",
      "source": [
        "\n",
        "df = df.withColumn(\"HV_Ratio\", df.High / df.Volume)\n",
        "\n",
        "df.head(5)"
      ],
      "metadata": {
        "colab": {
          "base_uri": "https://localhost:8080/"
        },
        "id": "hfccc3l45N2p",
        "outputId": "5d40e3dc-17aa-46e6-d6fb-7f4d213f632c"
      },
      "execution_count": 13,
      "outputs": [
        {
          "output_type": "execute_result",
          "data": {
            "text/plain": [
              "[Row(Date='2012-01-03', Open=59.970001220703125, High=61.060001373291016, Low=59.869998931884766, Close=60.33000183105469, Volume=12668800.0, Adj_Close=52.61923599243164, HV_Ratio=4.819714682786927e-06),\n",
              " Row(Date='2012-01-04', Open=60.209999084472656, High=60.349998474121094, Low=59.470001220703125, Close=59.709999084472656, Volume=9593300.0, Adj_Close=52.07847595214844, HV_Ratio=6.290848662516662e-06),\n",
              " Row(Date='2012-01-05', Open=59.349998474121094, High=59.619998931884766, Low=58.369998931884766, Close=59.41999816894531, Volume=12768200.0, Adj_Close=51.825538635253906, HV_Ratio=4.66941298944916e-06),\n",
              " Row(Date='2012-01-06', Open=59.41999816894531, High=59.45000076293945, Low=58.869998931884766, Close=59.0, Volume=8069400.0, Adj_Close=51.45922088623047, HV_Ratio=7.36733843444859e-06),\n",
              " Row(Date='2012-01-09', Open=59.029998779296875, High=59.54999923706055, Low=58.91999816894531, Close=59.18000030517578, Volume=6679300.0, Adj_Close=51.616214752197266, HV_Ratio=8.915604814435727e-06)]"
            ]
          },
          "metadata": {},
          "execution_count": 13
        }
      ]
    },
    {
      "cell_type": "markdown",
      "source": [
        "##Data Analysis"
      ],
      "metadata": {
        "id": "SS1b3floDN4a"
      }
    },
    {
      "cell_type": "code",
      "source": [
        "df.createOrReplaceTempView('full_df')\n",
        "tables = sqlCtx.tableNames()\n",
        "print(tables)"
      ],
      "metadata": {
        "colab": {
          "base_uri": "https://localhost:8080/"
        },
        "id": "8z30sAr1Egcw",
        "outputId": "d4a1f73b-4ca1-4a6b-88e3-fc1f6fd292b1"
      },
      "execution_count": 14,
      "outputs": [
        {
          "output_type": "stream",
          "name": "stdout",
          "text": [
            "['full_df', 'saf_stock']\n"
          ]
        }
      ]
    },
    {
      "cell_type": "markdown",
      "source": [
        "###What day had the Peak High in Price?\n"
      ],
      "metadata": {
        "id": "HejVBqnqFBeV"
      }
    },
    {
      "cell_type": "code",
      "source": [
        "query = 'select Date from full_df where High = (select MAX(High) from full_df)'\n",
        "sqlCtx.sql(query).show()\n",
        "\n"
      ],
      "metadata": {
        "colab": {
          "base_uri": "https://localhost:8080/"
        },
        "id": "a1zuqoiDFECr",
        "outputId": "c37d3254-51af-4edd-f29a-d1d65e24cb71"
      },
      "execution_count": 15,
      "outputs": [
        {
          "output_type": "stream",
          "name": "stdout",
          "text": [
            "+----------+\n",
            "|      Date|\n",
            "+----------+\n",
            "|2015-01-13|\n",
            "+----------+\n",
            "\n"
          ]
        }
      ]
    },
    {
      "cell_type": "markdown",
      "source": [
        "###What is the mean of the Close column?"
      ],
      "metadata": {
        "id": "bazcPqE2ORhf"
      }
    },
    {
      "cell_type": "code",
      "source": [
        "query = 'select AVG(Close) as Average_Close from full_df'\n",
        "sqlCtx.sql(query).show()"
      ],
      "metadata": {
        "colab": {
          "base_uri": "https://localhost:8080/"
        },
        "id": "CohjeOi4OgW_",
        "outputId": "4615a193-239a-4cef-801f-9a09bff7e4f3"
      },
      "execution_count": 16,
      "outputs": [
        {
          "output_type": "stream",
          "name": "stdout",
          "text": [
            "+-----------------+\n",
            "|    Average_Close|\n",
            "+-----------------+\n",
            "|72.38844997363553|\n",
            "+-----------------+\n",
            "\n"
          ]
        }
      ]
    },
    {
      "cell_type": "markdown",
      "source": [
        "###What is the max and min of the Volume column?"
      ],
      "metadata": {
        "id": "60jzh4KMOvxt"
      }
    },
    {
      "cell_type": "code",
      "source": [
        "query = 'select MAX(Volume) as Max_Volume, MIN(Volume) as Min_Volume from full_df'\n",
        "sqlCtx.sql(query).show()"
      ],
      "metadata": {
        "colab": {
          "base_uri": "https://localhost:8080/"
        },
        "id": "ccwEa5s_Ox-J",
        "outputId": "0e215cf0-8f5e-40e1-de81-266ead44763c"
      },
      "execution_count": 17,
      "outputs": [
        {
          "output_type": "stream",
          "name": "stdout",
          "text": [
            "+-----------+----------+\n",
            "| Max_Volume|Min_Volume|\n",
            "+-----------+----------+\n",
            "|8.0898096E7| 2094900.0|\n",
            "+-----------+----------+\n",
            "\n"
          ]
        }
      ]
    },
    {
      "cell_type": "markdown",
      "source": [
        "###How many days was the Close lower than 60 dollars?"
      ],
      "metadata": {
        "id": "dN8wDtQAPMXf"
      }
    },
    {
      "cell_type": "code",
      "source": [
        "query = 'Select COUNT(*) as Close_LessThan_60 from full_df where Close < 60'\n",
        "sqlCtx.sql(query).show()"
      ],
      "metadata": {
        "colab": {
          "base_uri": "https://localhost:8080/"
        },
        "id": "pgYPfiHiPNsL",
        "outputId": "5dcc5794-d1ce-41eb-f2a6-4beb170cf8e1"
      },
      "execution_count": 18,
      "outputs": [
        {
          "output_type": "stream",
          "name": "stdout",
          "text": [
            "+-----------------+\n",
            "|Close_LessThan_60|\n",
            "+-----------------+\n",
            "|               81|\n",
            "+-----------------+\n",
            "\n"
          ]
        }
      ]
    },
    {
      "cell_type": "markdown",
      "source": [
        "###What percentage of the time was the High greater than 80 dollars?"
      ],
      "metadata": {
        "id": "lExYOAztSdIv"
      }
    },
    {
      "cell_type": "code",
      "source": [
        "\n",
        "query = 'SELECT (SELECT COUNT(High) FROM full_df where High > 80) * 100/ (select COUNT(High) from full_df) as Percentage  From full_df group by Percentage'\n",
        "\n",
        "sqlCtx.sql(query).show()\n",
        "\n"
      ],
      "metadata": {
        "colab": {
          "base_uri": "https://localhost:8080/"
        },
        "id": "nIlHIjTeTcRY",
        "outputId": "561d8e94-d93b-4533-f2f1-97364139585b"
      },
      "execution_count": 19,
      "outputs": [
        {
          "output_type": "stream",
          "name": "stdout",
          "text": [
            "+-----------------+\n",
            "|       Percentage|\n",
            "+-----------------+\n",
            "|9.141494435612083|\n",
            "+-----------------+\n",
            "\n"
          ]
        }
      ]
    },
    {
      "cell_type": "markdown",
      "source": [
        "###What is the Pearson correlation between High and Volume?"
      ],
      "metadata": {
        "id": "XSzZOgg6cP9z"
      }
    },
    {
      "cell_type": "code",
      "source": [
        "df.stat.corr('High', 'Volume')"
      ],
      "metadata": {
        "colab": {
          "base_uri": "https://localhost:8080/"
        },
        "id": "q5rpWGzbo7N3",
        "outputId": "f977bdf7-fe80-41bd-f872-ff95073c74b9"
      },
      "execution_count": 20,
      "outputs": [
        {
          "output_type": "execute_result",
          "data": {
            "text/plain": [
              "-0.3384326095027024"
            ]
          },
          "metadata": {},
          "execution_count": 20
        }
      ]
    },
    {
      "cell_type": "markdown",
      "source": [
        "###What is the max High per year?\n"
      ],
      "metadata": {
        "id": "TuRPhyQRcgEF"
      }
    },
    {
      "cell_type": "code",
      "source": [
        "#newdf to extract year and month values from Date string...\n",
        "\n",
        "from pyspark.sql.functions import *\n",
        "\n",
        "newdf = df.select(year(df.Date).alias('_year'), month(df.Date).alias('_month'), \"High\", \"Close\")\n",
        "newdf.show()"
      ],
      "metadata": {
        "colab": {
          "base_uri": "https://localhost:8080/"
        },
        "id": "jasZGVxehXFB",
        "outputId": "c0f14fcc-07c0-4134-95ce-8747ffcee65e"
      },
      "execution_count": 21,
      "outputs": [
        {
          "output_type": "stream",
          "name": "stdout",
          "text": [
            "+-----+------+-----+-----+\n",
            "|_year|_month| High|Close|\n",
            "+-----+------+-----+-----+\n",
            "| 2012|     1|61.06|60.33|\n",
            "| 2012|     1|60.35|59.71|\n",
            "| 2012|     1|59.62|59.42|\n",
            "| 2012|     1|59.45| 59.0|\n",
            "| 2012|     1|59.55|59.18|\n",
            "| 2012|     1|59.71|59.04|\n",
            "| 2012|     1|59.53| 59.4|\n",
            "| 2012|     1| 60.0| 59.5|\n",
            "| 2012|     1|59.61|59.54|\n",
            "| 2012|     1|60.11|59.85|\n",
            "| 2012|     1|60.03|60.01|\n",
            "| 2012|     1|60.73|60.61|\n",
            "| 2012|     1|61.25|61.01|\n",
            "| 2012|     1|60.98|60.91|\n",
            "| 2012|     1| 62.0|61.39|\n",
            "| 2012|     1|61.61|61.47|\n",
            "| 2012|     1|61.84|60.97|\n",
            "| 2012|     1|61.12|60.71|\n",
            "| 2012|     1|61.32| 61.3|\n",
            "| 2012|     1|61.57|61.36|\n",
            "+-----+------+-----+-----+\n",
            "only showing top 20 rows\n",
            "\n"
          ]
        }
      ]
    },
    {
      "cell_type": "code",
      "source": [
        "newdf.createOrReplaceTempView('full_df2')\n",
        "tables = sqlCtx.tableNames()\n",
        "print(tables)\n",
        "\n"
      ],
      "metadata": {
        "colab": {
          "base_uri": "https://localhost:8080/"
        },
        "id": "KAm26vT5ju-J",
        "outputId": "811dfe4b-1b5d-441e-f0db-64d40ba78c68"
      },
      "execution_count": 22,
      "outputs": [
        {
          "output_type": "stream",
          "name": "stdout",
          "text": [
            "['full_df', 'full_df2', 'saf_stock']\n"
          ]
        }
      ]
    },
    {
      "cell_type": "code",
      "source": [
        "#Get the MAX High per year ...\n",
        "\n",
        "query = 'select _year, MAX(High) as year_high from full_df2 group by _year'\n",
        "sqlCtx.sql(query).show()"
      ],
      "metadata": {
        "colab": {
          "base_uri": "https://localhost:8080/"
        },
        "id": "J0FMsIMilW4J",
        "outputId": "70cb0001-3379-49df-f939-ade98a3e21ab"
      },
      "execution_count": 23,
      "outputs": [
        {
          "output_type": "stream",
          "name": "stdout",
          "text": [
            "+-----+---------+\n",
            "|_year|year_high|\n",
            "+-----+---------+\n",
            "| 2015|    90.97|\n",
            "| 2013|    81.37|\n",
            "| 2014|    88.09|\n",
            "| 2012|     77.6|\n",
            "| 2016|    75.19|\n",
            "+-----+---------+\n",
            "\n"
          ]
        }
      ]
    },
    {
      "cell_type": "markdown",
      "source": [
        "###What is the average Close for each calendar month?"
      ],
      "metadata": {
        "id": "Xho3D7ZjclnV"
      }
    },
    {
      "cell_type": "code",
      "source": [
        "query = 'select _month, AVG(Close) as month_average from full_df2 group by _month'\n",
        "sqlCtx.sql(query).show()"
      ],
      "metadata": {
        "colab": {
          "base_uri": "https://localhost:8080/"
        },
        "id": "VVRNuW6znwly",
        "outputId": "bd30d656-3204-4e72-ca33-ece6834cef08"
      },
      "execution_count": 24,
      "outputs": [
        {
          "output_type": "stream",
          "name": "stdout",
          "text": [
            "+------+-----------------+\n",
            "|_month|    month_average|\n",
            "+------+-----------------+\n",
            "|    12|72.84792482628012|\n",
            "|     1| 71.4480196131338|\n",
            "|     6| 72.4953774506191|\n",
            "|     3|71.77794376266337|\n",
            "|     5|72.30971685445533|\n",
            "|     9|72.18411782208611|\n",
            "|     4|72.97361900692894|\n",
            "|     8| 73.0298185521906|\n",
            "|     7|74.43971944078106|\n",
            "|    10| 71.5785454489968|\n",
            "|    11|72.11108927207418|\n",
            "|     2|71.30680438169499|\n",
            "+------+-----------------+\n",
            "\n"
          ]
        }
      ]
    }
  ]
}